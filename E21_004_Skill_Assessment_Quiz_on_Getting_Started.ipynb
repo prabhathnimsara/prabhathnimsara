{
  "nbformat": 4,
  "nbformat_minor": 0,
  "metadata": {
    "colab": {
      "provenance": [],
      "authorship_tag": "ABX9TyPHD8pAgkt4z3rGuyVh1cgN",
      "include_colab_link": true
    },
    "kernelspec": {
      "name": "python3",
      "display_name": "Python 3"
    },
    "language_info": {
      "name": "python"
    }
  },
  "cells": [
    {
      "cell_type": "markdown",
      "metadata": {
        "id": "view-in-github",
        "colab_type": "text"
      },
      "source": [
        "<a href=\"https://colab.research.google.com/github/prabhathnimsara/prabhathnimsara/blob/main/E21_004_Skill_Assessment_Quiz_on_Getting_Started.ipynb\" target=\"_parent\"><img src=\"https://colab.research.google.com/assets/colab-badge.svg\" alt=\"Open In Colab\"/></a>"
      ]
    },
    {
      "cell_type": "markdown",
      "source": [
        "**(Question 1)**\n",
        "\n",
        "Find $α$ in the following partial fraction expansion $$\\frac{1}{s^2+1.7^2} = \\frac{i\\alpha}{s+i1.7} - \\frac{i\\overline{\\alpha}}{s-i1.7}\n",
        "$$"
      ],
      "metadata": {
        "id": "gXQeZhrzcPlC"
      }
    },
    {
      "cell_type": "code",
      "source": [
        "#import librarie\n",
        "import sympy\n",
        "\n",
        "s, alpha = sympy.symbols('s alpha')\n",
        "\n",
        "eq = sympy.Eq(1/(s**2 + 1.7**2), (sympy.I * alpha)/(s + sympy.I * 1.7) - (sympy.I * sympy.conjugate(alpha))/(s - sympy.I * 1.7))\n",
        "eq"
      ],
      "metadata": {
        "colab": {
          "base_uri": "https://localhost:8080/",
          "height": 53
        },
        "id": "JE8-bYmLdPKx",
        "outputId": "ee308be0-0475-4c64-b13a-c84f42203821"
      },
      "execution_count": 20,
      "outputs": [
        {
          "output_type": "execute_result",
          "data": {
            "text/plain": [
              "Eq(1/(s**2 + 2.89), I*alpha/(s + 1.7*I) - I*conjugate(alpha)/(s - 1.7*I))"
            ],
            "text/latex": "$\\displaystyle \\frac{1}{s^{2} + 2.89} = \\frac{i \\alpha}{s + 1.7 i} - \\frac{i \\overline{\\alpha}}{s - 1.7 i}$"
          },
          "metadata": {},
          "execution_count": 20
        }
      ]
    },
    {
      "cell_type": "code",
      "source": [
        "#Solve\n",
        "solution = sympy.solve(eq, alpha)\n",
        "alpha_value = solution[0]\n",
        "\n",
        "print(f\"The value of alpha is: {alpha_value}\")"
      ],
      "metadata": {
        "colab": {
          "base_uri": "https://localhost:8080/"
        },
        "id": "btcW3YS4kJz6",
        "outputId": "c7e6ef0c-5bb9-44ef-d598-e9096dc5864b"
      },
      "execution_count": 21,
      "outputs": [
        {
          "output_type": "stream",
          "name": "stdout",
          "text": [
            "The value of alpha is: 0.294117647058824\n"
          ]
        }
      ]
    },
    {
      "cell_type": "markdown",
      "source": [
        "**(Question 2)**\n",
        "\n",
        "Find the largest root of the polynomial $x^2 + 2 \\zeta \\omega_n x + \\omega_n^2\n",
        "$\n",
        " where $ ζ\n",
        "=1, \\omega_n=3.5$\n",
        "\n",
        "\n"
      ],
      "metadata": {
        "id": "cXGA-5nTcCZa"
      }
    },
    {
      "cell_type": "code",
      "source": [
        "#Import libraries\n",
        "import sympy\n",
        "x, zeta, omega_n = sympy.symbols('x zeta omega_n')"
      ],
      "metadata": {
        "id": "up3ExHhIcIyr"
      },
      "execution_count": 22,
      "outputs": []
    },
    {
      "cell_type": "code",
      "source": [
        "#Define the  polynomial\n",
        "poly = x**2 + 2 * zeta * omega_n * x + omega_n**2\n",
        "poly"
      ],
      "metadata": {
        "colab": {
          "base_uri": "https://localhost:8080/",
          "height": 39
        },
        "id": "wH8zDdFzaUd4",
        "outputId": "b0476202-6fa6-4067-b00f-6de189fb50df"
      },
      "execution_count": 23,
      "outputs": [
        {
          "output_type": "execute_result",
          "data": {
            "text/plain": [
              "omega_n**2 + 2*omega_n*x*zeta + x**2"
            ],
            "text/latex": "$\\displaystyle \\omega_{n}^{2} + 2 \\omega_{n} x \\zeta + x^{2}$"
          },
          "metadata": {},
          "execution_count": 23
        }
      ]
    },
    {
      "cell_type": "code",
      "source": [
        "#Substitute\n",
        "substituted_polynomial = poly.subs({zeta: 1, omega_n: 3.5})\n",
        "substituted_polynomial"
      ],
      "metadata": {
        "colab": {
          "base_uri": "https://localhost:8080/",
          "height": 39
        },
        "id": "4oJz0YvVbHPe",
        "outputId": "822bee8d-ace3-4e3a-cf76-44b303e0c1dd"
      },
      "execution_count": 24,
      "outputs": [
        {
          "output_type": "execute_result",
          "data": {
            "text/plain": [
              "x**2 + 7.0*x + 12.25"
            ],
            "text/latex": "$\\displaystyle x^{2} + 7.0 x + 12.25$"
          },
          "metadata": {},
          "execution_count": 24
        }
      ]
    },
    {
      "cell_type": "code",
      "source": [
        "#Solve the roots\n",
        "roots = sympy.solve(substituted_polynomial, x)\n",
        "\n",
        "#largest root\n",
        "largest_root = max(roots)\n",
        "\n",
        "print(f\"The largest root is: {largest_root}\")"
      ],
      "metadata": {
        "colab": {
          "base_uri": "https://localhost:8080/"
        },
        "id": "aenx3fZtbsou",
        "outputId": "581c304f-111e-44e4-8043-42f3224319ff"
      },
      "execution_count": 25,
      "outputs": [
        {
          "output_type": "stream",
          "name": "stdout",
          "text": [
            "The largest root is: -3.50000000000000\n"
          ]
        }
      ]
    },
    {
      "cell_type": "markdown",
      "source": [
        "**(Question 3)**\n",
        "\n",
        "Find α\n",
        " the coefficient of the partial fraction expansion of $G(s) = \\frac{1}{s^2 + 2\\zeta\\omega_n s + \\omega_n^2} = \\frac{i\\alpha}{s + p} - \\frac{i\\overline{\\alpha}}{s + \\overline{p}}$\n",
        "\n",
        "where $ζ\n",
        "=0.7  , \\omega_n=1.7$\n"
      ],
      "metadata": {
        "id": "9PJMMCJ0kx89"
      }
    },
    {
      "cell_type": "code",
      "source": [
        "#Import libraries\n",
        "import sympy as sp\n",
        "\n",
        "s = sp.symbols('s')\n",
        "\n",
        "zeta = 0.7\n",
        "omega_n = 1.7\n",
        "\n",
        "\n",
        "denominator = s**2 + 2*zeta*omega_n*s + omega_n**2\n",
        "\n",
        "poles = sp.solve(denominator, s)\n",
        "\n",
        "#Find alpha\n",
        "alpha = (1 / (sp.im(poles[0]))) * 0.5\n",
        "print(alpha)\n"
      ],
      "metadata": {
        "colab": {
          "base_uri": "https://localhost:8080/"
        },
        "id": "JpfGaN7wmKEx",
        "outputId": "8630e89b-0917-4923-8a40-27a8b0afbcc3"
      },
      "execution_count": 26,
      "outputs": [
        {
          "output_type": "stream",
          "name": "stdout",
          "text": [
            "-0.411847083537650\n"
          ]
        }
      ]
    },
    {
      "cell_type": "markdown",
      "source": [
        "**(Question 4)**\n",
        "\n",
        "Find the area of the parallelogram determined by$\\vec{A} = 0.5\\hat{i} + 1.3\\hat{j} - 1.9\\hat{k}\n",
        " \\ and \\ \\vec{B} = -0.1\\hat{i} -0.9\\hat{j} - 0.9\\hat{k}$\n"
      ],
      "metadata": {
        "id": "p9gVaE1WqRhU"
      }
    },
    {
      "cell_type": "code",
      "source": [
        "#import libraries\n",
        "import numpy as np\n",
        "import sympy\n",
        "\n",
        "a,b,c,d,e,f = sympy.symbols('a b c d e f')\n",
        "\n",
        "A = np.array([a, b, c])\n",
        "B = np.array([d, e, f])\n",
        "\n",
        "#cross product\n",
        "cross_product = np.cross(A, B)\n",
        "\n",
        "#area\n",
        "Area=sympy.sqrt(cross_product[0]**2+cross_product[1]**2+cross_product[2]**2)\n",
        "area= Area.subs({a:0.5,b:1.3,c:-1.9,d:-0.1,e:-0.9,f:0.9})\n",
        "print(f\"The area of the parallelogram is: {area}\")"
      ],
      "metadata": {
        "colab": {
          "base_uri": "https://localhost:8080/"
        },
        "id": "wwIN2mdaqrmn",
        "outputId": "d8cace77-b1c4-49e0-d7f8-897d9f9b2887"
      },
      "execution_count": 27,
      "outputs": [
        {
          "output_type": "stream",
          "name": "stdout",
          "text": [
            "The area of the parallelogram is: 0.679411510058521\n"
          ]
        }
      ]
    },
    {
      "cell_type": "markdown",
      "source": [
        "**(Question 5)**\n",
        "\n",
        "Find the eigenvalues and eigenvectors of $$\\begin{bmatrix}\n",
        "0 & 1 \\\\\n",
        "-\\omega_{n}^{2} & -2\\zeta\\omega_{n}\n",
        "\\end{bmatrix}$$\n",
        " when $0 < \\zeta < 1$\n",
        " using sympy and type your answer in the text box below using LaTeX."
      ],
      "metadata": {
        "id": "LO_6MDjLvRWv"
      }
    },
    {
      "cell_type": "code",
      "source": [
        "from sympy import *\n",
        "from sympy.abc import omega, zeta\n",
        "\n",
        "#Define the matrix\n",
        "A = Matrix([[0, 1], [-omega_n**2, -2*zeta*omega_n]])\n",
        "\n",
        "#eigenvalues\n",
        "eigenvalues = A.eigenvals()\n",
        "\n",
        "#eigenvectors\n",
        "eigenvectors = A.eigenvects()\n",
        "\n",
        "#Print the eigenvalues and eigenvectors in LaTeX format\n",
        "print(f\"Eigenvalues: {latex(eigenvalues)}\")\n",
        "print(f\"Eigenvectors: {latex(eigenvectors)}\")"
      ],
      "metadata": {
        "colab": {
          "base_uri": "https://localhost:8080/"
        },
        "id": "KSTbhbPIKtnh",
        "outputId": "21dc4e45-ba11-448c-e067-2d2337f138db"
      },
      "execution_count": 28,
      "outputs": [
        {
          "output_type": "stream",
          "name": "stdout",
          "text": [
            "Eigenvalues: \\left\\{ - 1.7 \\zeta - 1.7 \\sqrt{\\left(\\zeta - 1\\right) \\left(\\zeta + 1\\right)} : 1, \\  - 1.7 \\zeta + 1.7 \\sqrt{\\left(\\zeta - 1\\right) \\left(\\zeta + 1\\right)} : 1\\right\\}\n",
            "Eigenvectors: \\left[ \\left( - 1.7 \\zeta - 1.7 \\left(\\left(\\zeta - 1.0\\right) \\left(\\zeta + 1.0\\right)\\right)^{0.5}, \\  1, \\  \\left[ \\left[\\begin{matrix}- 0.588235294117647 \\zeta + 0.588235294117647 \\left(\\left(\\zeta - 1.0\\right) \\left(\\zeta + 1.0\\right)\\right)^{0.5}\\\\1.0\\end{matrix}\\right]\\right]\\right), \\  \\left( - 1.7 \\zeta + 1.7 \\left(\\left(\\zeta - 1.0\\right) \\left(\\zeta + 1.0\\right)\\right)^{0.5}, \\  1, \\  \\left[ \\left[\\begin{matrix}- 0.588235294117647 \\zeta - 0.588235294117647 \\left(\\left(\\zeta - 1.0\\right) \\left(\\zeta + 1.0\\right)\\right)^{0.5}\\\\1.0\\end{matrix}\\right]\\right]\\right)\\right]\n"
          ]
        }
      ]
    },
    {
      "cell_type": "markdown",
      "source": [
        "$$Eigenvalues \\left\\{ \\omega_{n} \\left(- \\zeta - \\sqrt{\\left(\\zeta - 1\\right) \\left(\\zeta + 1\\right)}\\right) , \\  \\omega_{n} \\left(- \\zeta + \\sqrt{\\left(\\zeta - 1\\right) \\left(\\zeta + 1\\right)}\\right) \\right\\}$$\n",
        "\n",
        "$$Eigenvectors \\left[ \\left( \\omega_{n} \\left(- \\zeta - \\sqrt{\\left(\\zeta - 1\\right) \\left(\\zeta + 1\\right)}\\right), \\ ==> \\  \\left[ \\left[\\begin{matrix}- \\frac{2 \\zeta}{\\omega_{n}} - \\frac{- \\zeta - \\sqrt{\\left(\\zeta - 1\\right) \\left(\\zeta + 1\\right)}}{\\omega_{n}}\\\\1\\end{matrix}\\right]\\right]\\right), \\  \\left( \\omega_{n} \\left(- \\zeta + \\sqrt{\\left(\\zeta - 1\\right) \\left(\\zeta + 1\\right)}\\right), \\  ==> \\  \\left[ \\left[\\begin{matrix}- \\frac{2 \\zeta}{\\omega_{n}} - \\frac{- \\zeta + \\sqrt{\\left(\\zeta - 1\\right) \\left(\\zeta + 1\\right)}}{\\omega_{n}}\\\\1\\end{matrix}\\right]\\right]\\right)\\right]$$"
      ],
      "metadata": {
        "id": "MTqC8XS1L3E8"
      }
    }
  ]
}