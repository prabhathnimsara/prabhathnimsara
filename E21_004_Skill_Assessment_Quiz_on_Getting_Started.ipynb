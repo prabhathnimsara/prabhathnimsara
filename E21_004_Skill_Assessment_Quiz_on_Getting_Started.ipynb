{
  "nbformat": 4,
  "nbformat_minor": 0,
  "metadata": {
    "colab": {
      "provenance": [],
      "authorship_tag": "ABX9TyOsYztdgs0WzX0gubwXKckD",
      "include_colab_link": true
    },
    "kernelspec": {
      "name": "python3",
      "display_name": "Python 3"
    },
    "language_info": {
      "name": "python"
    }
  },
  "cells": [
    {
      "cell_type": "markdown",
      "metadata": {
        "id": "view-in-github",
        "colab_type": "text"
      },
      "source": [
        "<a href=\"https://colab.research.google.com/github/prabhathnimsara/prabhathnimsara/blob/main/E21_004_Skill_Assessment_Quiz_on_Getting_Started.ipynb\" target=\"_parent\"><img src=\"https://colab.research.google.com/assets/colab-badge.svg\" alt=\"Open In Colab\"/></a>"
      ]
    },
    {
      "cell_type": "markdown",
      "source": [
        "**(Question 1)**\n",
        "\n",
        "Find $α$ in the following partial fraction expansion $$\\frac{1}{s^2+1.7^2} = \\frac{i\\alpha}{s+i1.7} - \\frac{i\\overline{\\alpha}}{s-i1.7}\n",
        "$$"
      ],
      "metadata": {
        "id": "gXQeZhrzcPlC"
      }
    },
    {
      "cell_type": "code",
      "source": [
        "#import librarie\n",
        "import sympy\n",
        "\n",
        "s, alpha = sympy.symbols('s alpha')\n",
        "\n",
        "eq = sympy.Eq(1/(s**2 + 1.7**2), (sympy.I * alpha)/(s + sympy.I * 1.7) - (sympy.I * sympy.conjugate(alpha))/(s - sympy.I * 1.7))\n",
        "eq"
      ],
      "metadata": {
        "colab": {
          "base_uri": "https://localhost:8080/",
          "height": 53
        },
        "id": "JE8-bYmLdPKx",
        "outputId": "e42ff05b-7821-4e6c-cf84-7fa38ddb4829"
      },
      "execution_count": 78,
      "outputs": [
        {
          "output_type": "execute_result",
          "data": {
            "text/plain": [
              "Eq(1/(s**2 + 2.89), I*alpha/(s + 1.7*I) - I*conjugate(alpha)/(s - 1.7*I))"
            ],
            "text/latex": "$\\displaystyle \\frac{1}{s^{2} + 2.89} = \\frac{i \\alpha}{s + 1.7 i} - \\frac{i \\overline{\\alpha}}{s - 1.7 i}$"
          },
          "metadata": {},
          "execution_count": 78
        }
      ]
    },
    {
      "cell_type": "code",
      "source": [
        "#Solve\n",
        "solution = sympy.solve(eq, alpha)\n",
        "alpha_value = solution[0]\n",
        "\n",
        "print(f\"The value of alpha is: {alpha_value}\")"
      ],
      "metadata": {
        "colab": {
          "base_uri": "https://localhost:8080/"
        },
        "id": "btcW3YS4kJz6",
        "outputId": "d7d7d1a5-d3e4-479e-d1ba-a43490aa2754"
      },
      "execution_count": 79,
      "outputs": [
        {
          "output_type": "stream",
          "name": "stdout",
          "text": [
            "The value of alpha is: 0.294117647058824\n"
          ]
        }
      ]
    },
    {
      "cell_type": "markdown",
      "source": [
        "**(Question 2)**\n",
        "\n",
        "Find the largest root of the polynomial $x^2 + 2 \\zeta \\omega_n x + \\omega_n^2\n",
        "$\n",
        " where $ ζ\n",
        "=1, \\omega_n=3.5$\n",
        "\n",
        "\n"
      ],
      "metadata": {
        "id": "cXGA-5nTcCZa"
      }
    },
    {
      "cell_type": "code",
      "source": [
        "#Import libraries\n",
        "import sympy\n",
        "x, zeta, omega_n = sympy.symbols('x zeta omega_n')"
      ],
      "metadata": {
        "id": "up3ExHhIcIyr"
      },
      "execution_count": 80,
      "outputs": []
    },
    {
      "cell_type": "code",
      "source": [
        "#Define the  polynomial\n",
        "poly = x**2 + 2 * zeta * omega_n * x + omega_n**2\n",
        "poly"
      ],
      "metadata": {
        "colab": {
          "base_uri": "https://localhost:8080/",
          "height": 39
        },
        "id": "wH8zDdFzaUd4",
        "outputId": "a7b010db-d9ff-4139-d59b-00f550ee1826"
      },
      "execution_count": 81,
      "outputs": [
        {
          "output_type": "execute_result",
          "data": {
            "text/plain": [
              "omega_n**2 + 2*omega_n*x*zeta + x**2"
            ],
            "text/latex": "$\\displaystyle \\omega_{n}^{2} + 2 \\omega_{n} x \\zeta + x^{2}$"
          },
          "metadata": {},
          "execution_count": 81
        }
      ]
    },
    {
      "cell_type": "code",
      "source": [
        "#Substitute\n",
        "substituted_polynomial = poly.subs({zeta: 1, omega_n: 3.5})\n",
        "substituted_polynomial"
      ],
      "metadata": {
        "colab": {
          "base_uri": "https://localhost:8080/",
          "height": 39
        },
        "id": "4oJz0YvVbHPe",
        "outputId": "70135da6-e464-4a7e-de90-284a33a72e85"
      },
      "execution_count": 82,
      "outputs": [
        {
          "output_type": "execute_result",
          "data": {
            "text/plain": [
              "x**2 + 7.0*x + 12.25"
            ],
            "text/latex": "$\\displaystyle x^{2} + 7.0 x + 12.25$"
          },
          "metadata": {},
          "execution_count": 82
        }
      ]
    },
    {
      "cell_type": "code",
      "source": [
        "#Solve the roots\n",
        "roots = sympy.solve(substituted_polynomial, x)\n",
        "\n",
        "#largest root\n",
        "largest_root = max(roots)\n",
        "\n",
        "print(f\"The largest root is: {largest_root}\")"
      ],
      "metadata": {
        "colab": {
          "base_uri": "https://localhost:8080/"
        },
        "id": "aenx3fZtbsou",
        "outputId": "0de236a4-6c63-45f4-af73-de0eecbd5173"
      },
      "execution_count": 83,
      "outputs": [
        {
          "output_type": "stream",
          "name": "stdout",
          "text": [
            "The largest root is: -3.50000000000000\n"
          ]
        }
      ]
    },
    {
      "cell_type": "markdown",
      "source": [
        "**(Question 3)**\n",
        "\n",
        "Find α\n",
        " the coefficient of the partial fraction expansion of $G(s) = \\frac{1}{s^2 + 2\\zeta\\omega_n s + \\omega_n^2} = \\frac{i\\alpha}{s + p} - \\frac{i\\overline{\\alpha}}{s + \\overline{p}}$\n",
        "\n",
        "where $ζ\n",
        "=0.7  , \\omega_n=1.7$\n"
      ],
      "metadata": {
        "id": "9PJMMCJ0kx89"
      }
    },
    {
      "cell_type": "code",
      "source": [
        "from sympy import symbols, I, conjugate, simplify, solve, sqrt\n",
        "\n",
        "zeta, omega_n = symbols(\"zeta,omega_n\", real=True)\n",
        "a, b = symbols('a, b', real=True)\n",
        "s, alpha = symbols('s, alpha', real=False)\n",
        "\n",
        "#characteristic equation\n",
        "p = s**2 + 2*zeta*omega_n*s + omega_n**2\n",
        "\n",
        "#Solve\n",
        "rootsP = solve(p, s)\n",
        "p1 = rootsP[0]\n",
        "p2 = rootsP[1]\n",
        "\n",
        "p3 = I*alpha/(s+p1) - I*conjugate(alpha)/(s+p2)\n",
        "p4 = I*alpha*(s+p2) - I*conjugate(alpha)*(s+p1)\n",
        "\n",
        "simplify(p4.subs({s: -p1}))\n",
        "\n",
        "# Define alpha\n",
        "alpha = 1/(2*omega_n*sqrt(1-zeta**2))\n",
        "\n",
        "# Substitute values\n",
        "alpha.subs({zeta: 0.7, omega_n: 1.7})"
      ],
      "metadata": {
        "colab": {
          "base_uri": "https://localhost:8080/",
          "height": 37
        },
        "id": "R0YTLvjI1W7J",
        "outputId": "16f89990-c0b3-41e3-a834-21f63a3d2e97"
      },
      "execution_count": 84,
      "outputs": [
        {
          "output_type": "execute_result",
          "data": {
            "text/plain": [
              "0.411847083537650"
            ],
            "text/latex": "$\\displaystyle 0.41184708353765$"
          },
          "metadata": {},
          "execution_count": 84
        }
      ]
    },
    {
      "cell_type": "markdown",
      "source": [
        "**(Question 4)**\n",
        "\n",
        "Find the area of the parallelogram determined by$\\vec{A} = 0.5\\hat{i} + 1.3\\hat{j} - 1.9\\hat{k}\n",
        " \\ and \\ \\vec{B} = -0.1\\hat{i} -0.9\\hat{j} - 0.9\\hat{k}$\n"
      ],
      "metadata": {
        "id": "p9gVaE1WqRhU"
      }
    },
    {
      "cell_type": "code",
      "source": [
        "#import libraries\n",
        "import numpy as np\n",
        "import sympy\n",
        "\n",
        "a,b,c,d,e,f = sympy.symbols('a b c d e f')\n",
        "\n",
        "A = np.array([a, b, c])\n",
        "B = np.array([d, e, f])\n",
        "\n",
        "#cross product\n",
        "cross_product = np.cross(A, B)\n",
        "\n",
        "#area\n",
        "Area=sympy.sqrt(cross_product[0]**2+cross_product[1]**2+cross_product[2]**2)\n",
        "area= Area.subs({a:0.5,b:1.3,c:-1.9,d:-0.1,e:-0.9,f:0.9})\n",
        "print(f\"The area of the parallelogram is: {area}\")"
      ],
      "metadata": {
        "colab": {
          "base_uri": "https://localhost:8080/"
        },
        "id": "wwIN2mdaqrmn",
        "outputId": "fdc276a7-dd2a-4df0-cfab-ad2021750c31"
      },
      "execution_count": 85,
      "outputs": [
        {
          "output_type": "stream",
          "name": "stdout",
          "text": [
            "The area of the parallelogram is: 0.679411510058521\n"
          ]
        }
      ]
    },
    {
      "cell_type": "markdown",
      "source": [
        "**(Question 5)**\n",
        "\n",
        "Find the eigenvalues and eigenvectors of $$\\begin{bmatrix}\n",
        "0 & 1 \\\\\n",
        "-\\omega_{n}^{2} & -2\\zeta\\omega_{n}\n",
        "\\end{bmatrix}$$\n",
        " when $0 < \\zeta < 1$\n",
        " using sympy and type your answer in the text box below using LaTeX."
      ],
      "metadata": {
        "id": "LO_6MDjLvRWv"
      }
    },
    {
      "cell_type": "code",
      "source": [
        "from sympy import *\n",
        "from sympy.abc import omega, zeta\n",
        "\n",
        "#matrix\n",
        "A = Matrix([[0, 1], [-omega_n**2, -2*zeta*omega_n]])\n",
        "\n",
        "#eigenvalues\n",
        "eigenvalues = A.eigenvals()\n",
        "\n",
        "#eigenvectors\n",
        "eigenvectors = A.eigenvects()\n",
        "\n",
        "#Print\n",
        "print(f\"Eigenvalues: {latex(eigenvalues)}\")\n",
        "print(f\"Eigenvectors: {latex(eigenvectors)}\")"
      ],
      "metadata": {
        "colab": {
          "base_uri": "https://localhost:8080/"
        },
        "id": "KSTbhbPIKtnh",
        "outputId": "d072f11f-9a61-44c5-c692-986001c8331d"
      },
      "execution_count": 86,
      "outputs": [
        {
          "output_type": "stream",
          "name": "stdout",
          "text": [
            "Eigenvalues: \\left\\{ \\omega_{n} \\left(- \\zeta - \\sqrt{\\left(\\zeta - 1\\right) \\left(\\zeta + 1\\right)}\\right) : 1, \\  \\omega_{n} \\left(- \\zeta + \\sqrt{\\left(\\zeta - 1\\right) \\left(\\zeta + 1\\right)}\\right) : 1\\right\\}\n",
            "Eigenvectors: \\left[ \\left( \\omega_{n} \\left(- \\zeta - \\sqrt{\\left(\\zeta - 1\\right) \\left(\\zeta + 1\\right)}\\right), \\  1, \\  \\left[ \\left[\\begin{matrix}- \\frac{2 \\zeta}{\\omega_{n}} - \\frac{- \\zeta - \\sqrt{\\left(\\zeta - 1\\right) \\left(\\zeta + 1\\right)}}{\\omega_{n}}\\\\1\\end{matrix}\\right]\\right]\\right), \\  \\left( \\omega_{n} \\left(- \\zeta + \\sqrt{\\left(\\zeta - 1\\right) \\left(\\zeta + 1\\right)}\\right), \\  1, \\  \\left[ \\left[\\begin{matrix}- \\frac{2 \\zeta}{\\omega_{n}} - \\frac{- \\zeta + \\sqrt{\\left(\\zeta - 1\\right) \\left(\\zeta + 1\\right)}}{\\omega_{n}}\\\\1\\end{matrix}\\right]\\right]\\right)\\right]\n"
          ]
        }
      ]
    },
    {
      "cell_type": "markdown",
      "source": [
        "$$Eigenvalues \\left\\{ \\omega_{n} \\left(- \\zeta - \\sqrt{\\left(\\zeta - 1\\right) \\left(\\zeta + 1\\right)}\\right) , \\  \\omega_{n} \\left(- \\zeta + \\sqrt{\\left(\\zeta - 1\\right) \\left(\\zeta + 1\\right)}\\right) \\right\\}$$\n",
        "\n",
        "$$Eigenvectors \\left[ \\left( \\omega_{n} \\left(- \\zeta - \\sqrt{\\left(\\zeta - 1\\right) \\left(\\zeta + 1\\right)}\\right), \\ => \\  \\left[ \\left[\\begin{matrix}- \\frac{2 \\zeta}{\\omega_{n}} - \\frac{- \\zeta - \\sqrt{\\left(\\zeta - 1\\right) \\left(\\zeta + 1\\right)}}{\\omega_{n}}\\\\1\\end{matrix}\\right]\\right]\\right), \\  \\left( \\omega_{n} \\left(- \\zeta + \\sqrt{\\left(\\zeta - 1\\right) \\left(\\zeta + 1\\right)}\\right), \\  => \\  \\left[ \\left[\\begin{matrix}- \\frac{2 \\zeta}{\\omega_{n}} - \\frac{- \\zeta + \\sqrt{\\left(\\zeta - 1\\right) \\left(\\zeta + 1\\right)}}{\\omega_{n}}\\\\1\\end{matrix}\\right]\\right]\\right)\\right]$$"
      ],
      "metadata": {
        "id": "MTqC8XS1L3E8"
      }
    }
  ]
}